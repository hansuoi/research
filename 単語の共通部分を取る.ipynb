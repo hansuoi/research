{
 "cells": [
  {
   "cell_type": "code",
   "execution_count": 1,
   "id": "naked-energy",
   "metadata": {},
   "outputs": [],
   "source": [
    "with open('suihanki_wakati.txt', mode='r', encoding='utf-8') as f:\n",
    "    text = f.read()"
   ]
  },
  {
   "cell_type": "markdown",
   "id": "specialized-surveillance",
   "metadata": {},
   "source": [
    "\n"
   ]
  },
  {
   "cell_type": "code",
   "execution_count": 2,
   "id": "streaming-civilization",
   "metadata": {},
   "outputs": [],
   "source": [
    "# 名詞が連続してたら名詞句として扱う(わかち書かない)\n",
    "# 名詞・名詞句以外は削除する\n",
    "def preprocess2(text):\n",
    "    from szk_lib import hinshi_check\n",
    "    \n",
    "    # 名詞と名詞句とを格納する配列\n",
    "    nouns = []\n",
    "    \n",
    "    # i文目のj語目が格納された二次元配列sentence(i, j)\n",
    "    sentence = text.split('\\n')\n",
    "    for i in range(len(sentence)):\n",
    "        sentence[i] = sentence[i].split()\n",
    "\n",
    "    for i in range(len(sentence)):\n",
    "        j = 0\n",
    "        while j < len(sentence[i]):\n",
    "            if hinshi_check(sentence[i][j]) == '名詞':\n",
    "                w = ''\n",
    "                while j<len(sentence[i]) and hinshi_check(sentence[i][j])=='名詞':\n",
    "                    w += sentence[i][j]\n",
    "                    j += 1\n",
    "                nouns.append(w)\n",
    "            j += 1\n",
    "\n",
    "    return nouns"
   ]
  },
  {
   "cell_type": "code",
   "execution_count": 3,
   "id": "advisory-union",
   "metadata": {},
   "outputs": [],
   "source": [
    "# s1, s2 の最長共通部分を返す\n",
    "def find_longest_substr(s1, s2):\n",
    "    for length in range(len(s2), 0, -1):\n",
    "        for p0 in range(len(s2) - length + 1):\n",
    "            substr = s2[p0:(p0 + length)]\n",
    "            if substr in s1:\n",
    "                return(substr)\n",
    "    return \"\""
   ]
  },
  {
   "cell_type": "code",
   "execution_count": 4,
   "id": "tender-occasion",
   "metadata": {},
   "outputs": [],
   "source": [
    "def substr(text):\n",
    "    # textから名詞と名詞句だけ抽出\n",
    "    nouns = preprocess2(text)\n",
    "    \n",
    "    # result: 共通部分, s1, s2\n",
    "    result = []\n",
    "    \n",
    "    for i in range(len(nouns)):\n",
    "        for j in range(i+1, len(nouns)):\n",
    "            result.append([find_longest_substr(nouns[i], nouns[j]), nouns[i], nouns[j]])\n",
    "\n",
    "    # 共通部分順に並べ替える\n",
    "    result = sorted(result, reverse=True, key=lambda x: x[0])\n",
    "    \n",
    "    return result"
   ]
  },
  {
   "cell_type": "markdown",
   "id": "entitled-conclusion",
   "metadata": {},
   "source": [
    "\n"
   ]
  },
  {
   "cell_type": "code",
   "execution_count": 5,
   "id": "moderate-delight",
   "metadata": {},
   "outputs": [
    {
     "ename": "MemoryError",
     "evalue": "Unable to allocate 6.75 GiB for an array with shape (16770736, 3) and data type <U36",
     "output_type": "error",
     "traceback": [
      "\u001b[1;31m--------------------------------------------------------\u001b[0m",
      "\u001b[1;31mMemoryError\u001b[0m            Traceback (most recent call last)",
      "\u001b[1;32m<ipython-input-5-3a136067846d>\u001b[0m in \u001b[0;36m<module>\u001b[1;34m\u001b[0m\n\u001b[0;32m      1\u001b[0m \u001b[1;32mimport\u001b[0m \u001b[0mnumpy\u001b[0m \u001b[1;32mas\u001b[0m \u001b[0mnp\u001b[0m\u001b[1;33m\u001b[0m\u001b[1;33m\u001b[0m\u001b[0m\n\u001b[1;32m----> 2\u001b[1;33m \u001b[0mnp\u001b[0m\u001b[1;33m.\u001b[0m\u001b[0msavetxt\u001b[0m\u001b[1;33m(\u001b[0m\u001b[1;34m'共通部分.txt'\u001b[0m\u001b[1;33m,\u001b[0m \u001b[0mnp\u001b[0m\u001b[1;33m.\u001b[0m\u001b[0marray\u001b[0m\u001b[1;33m(\u001b[0m\u001b[0msubstr\u001b[0m\u001b[1;33m(\u001b[0m\u001b[0mtext\u001b[0m\u001b[1;33m)\u001b[0m\u001b[1;33m)\u001b[0m\u001b[1;33m,\u001b[0m \u001b[0mfmt\u001b[0m\u001b[1;33m=\u001b[0m\u001b[1;34m\"%s\"\u001b[0m\u001b[1;33m)\u001b[0m\u001b[1;33m\u001b[0m\u001b[1;33m\u001b[0m\u001b[0m\n\u001b[0m",
      "\u001b[1;31mMemoryError\u001b[0m: Unable to allocate 6.75 GiB for an array with shape (16770736, 3) and data type <U36"
     ]
    }
   ],
   "source": [
    "import numpy as np\n",
    "np.savetxt('共通部分.txt', np.array(substr(text)), fmt=\"%s\")"
   ]
  }
 ],
 "metadata": {
  "kernelspec": {
   "display_name": "Python 3",
   "language": "python",
   "name": "python3"
  },
  "language_info": {
   "codemirror_mode": {
    "name": "ipython",
    "version": 3
   },
   "file_extension": ".py",
   "mimetype": "text/x-python",
   "name": "python",
   "nbconvert_exporter": "python",
   "pygments_lexer": "ipython3",
   "version": "3.6.12"
  }
 },
 "nbformat": 4,
 "nbformat_minor": 5
}
