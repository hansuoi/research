{
 "cells": [
  {
   "cell_type": "code",
   "execution_count": 4,
   "id": "nutritional-washington",
   "metadata": {},
   "outputs": [],
   "source": [
    "import MeCab\n",
    "tagger = MeCab.Tagger(\"-Ochasen\")\n",
    "tagger.parse('')    # よくわかんないけどこうするとエラーが出ない\n",
    "\n",
    "with open('suihanki.txt', mode='r', encoding='utf-8') as f:\n",
    "    text = f.read()"
   ]
  },
  {
   "cell_type": "code",
   "execution_count": 7,
   "id": "intimate-snowboard",
   "metadata": {},
   "outputs": [],
   "source": [
    "text = 'そうめん'"
   ]
  },
  {
   "cell_type": "code",
   "execution_count": null,
   "id": "confident-amateur",
   "metadata": {},
   "outputs": [],
   "source": [
    "node = tagger.parseToNode(text)\n",
    "print(node.surface)\n",
    "print(node.feature.split(','))"
   ]
  }
 ],
 "metadata": {
  "kernelspec": {
   "display_name": "Python 3",
   "language": "python",
   "name": "python3"
  },
  "language_info": {
   "codemirror_mode": {
    "name": "ipython",
    "version": 3
   },
   "file_extension": ".py",
   "mimetype": "text/x-python",
   "name": "python",
   "nbconvert_exporter": "python",
   "pygments_lexer": "ipython3",
   "version": "3.6.12"
  }
 },
 "nbformat": 4,
 "nbformat_minor": 5
}
