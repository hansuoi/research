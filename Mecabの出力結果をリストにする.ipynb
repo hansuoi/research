{
 "cells": [
  {
   "cell_type": "code",
   "execution_count": 5,
   "id": "happy-wildlife",
   "metadata": {},
   "outputs": [],
   "source": [
    "import MeCab"
   ]
  },
  {
   "cell_type": "markdown",
   "id": "brief-grammar",
   "metadata": {},
   "source": [
    "\n"
   ]
  },
  {
   "cell_type": "code",
   "execution_count": 6,
   "id": "swedish-telephone",
   "metadata": {},
   "outputs": [
    {
     "name": "stdout",
     "output_type": "stream",
     "text": [
      "すもも\tスモモ\tすもも\t名詞-一般\t\t\n",
      "も\tモ\tも\t助詞-係助詞\t\t\n",
      "もも\tモモ\tもも\t名詞-一般\t\t\n",
      "も\tモ\tも\t助詞-係助詞\t\t\n",
      "もも\tモモ\tもも\t名詞-一般\t\t\n",
      "の\tノ\tの\t助詞-連体化\t\t\n",
      "うち\tウチ\tうち\t名詞-非自立-副詞可能\t\t\n",
      "EOS\n",
      "\n"
     ]
    }
   ],
   "source": [
    "m = MeCab.Tagger (\"-Ochasen\")\n",
    "print(m.parse (\"すもももももももものうち\"))"
   ]
  },
  {
   "cell_type": "code",
   "execution_count": 7,
   "id": "allied-madonna",
   "metadata": {},
   "outputs": [
    {
     "name": "stdout",
     "output_type": "stream",
     "text": [
      "トンネル\tトンネル\tトンネル\t名詞-一般\t\t\n",
      "を\tヲ\tを\t助詞-格助詞-一般\t\t\n",
      "抜ける\tヌケル\t抜ける\t動詞-自立\t一段\t基本形\n",
      "と\tト\tと\t助詞-接続助詞\t\t\n",
      "そこ\tソコ\tそこ\t名詞-代名詞-一般\t\t\n",
      "は\tハ\tは\t助詞-係助詞\t\t\n",
      "雪国\tユキグニ\t雪国\t名詞-一般\t\t\n",
      "だっ\tダッ\tだ\t助動詞\t特殊・ダ\t連用タ接続\n",
      "た\tタ\tた\t助動詞\t特殊・タ\t基本形\n",
      "EOS\n",
      "\n"
     ]
    }
   ],
   "source": [
    "print(m.parse(''))"
   ]
  },
  {
   "cell_type": "markdown",
   "id": "developmental-killer",
   "metadata": {},
   "source": [
    "\n"
   ]
  },
  {
   "cell_type": "code",
   "execution_count": 6,
   "id": "sought-northeast",
   "metadata": {},
   "outputs": [],
   "source": [
    "def mecab_list(text):\n",
    "    tagger = MeCab.Tagger(\"-Ochasen\")\n",
    "    tagger.parse('')    # よくわかんないけどこうするとエラーが出ない\n",
    "    node = tagger.parseToNode(text)\n",
    "    word_class = []\n",
    "    while node:\n",
    "        word = node.surface\n",
    "        wclass = node.feature.split(',')    # 品詞,品詞細分類1,品詞細分類2,品詞細分類3,活用形,活用型,原形,読み,発音\n",
    "        if wclass[0] != u'BOS/EOS':\n",
    "            if wclass[6] == None:\n",
    "                word_class.append((word,wclass[0],\"\"))\n",
    "            else:\n",
    "                word_class.append((word,wclass[0],wclass[6]))\n",
    "        node = node.next\n",
    "    return word_class"
   ]
  },
  {
   "cell_type": "code",
   "execution_count": 8,
   "id": "intelligent-assembly",
   "metadata": {},
   "outputs": [
    {
     "data": {
      "text/plain": [
       "[('すもも', '名詞', 'すもも'),\n",
       " ('も', '助詞', 'も'),\n",
       " ('もも', '名詞', 'もも'),\n",
       " ('も', '助詞', 'も'),\n",
       " ('もも', '名詞', 'もも'),\n",
       " ('の', '助詞', 'の'),\n",
       " ('うち', '名詞', 'うち')]"
      ]
     },
     "execution_count": 8,
     "metadata": {},
     "output_type": "execute_result"
    }
   ],
   "source": [
    "mecab_list(\"すもももももももものうち\")    # 表層形, 品詞, 原形 が表示される"
   ]
  }
 ],
 "metadata": {
  "kernelspec": {
   "display_name": "Python 3",
   "language": "python",
   "name": "python3"
  },
  "language_info": {
   "codemirror_mode": {
    "name": "ipython",
    "version": 3
   },
   "file_extension": ".py",
   "mimetype": "text/x-python",
   "name": "python",
   "nbconvert_exporter": "python",
   "pygments_lexer": "ipython3",
   "version": "3.6.12"
  }
 },
 "nbformat": 4,
 "nbformat_minor": 5
}
