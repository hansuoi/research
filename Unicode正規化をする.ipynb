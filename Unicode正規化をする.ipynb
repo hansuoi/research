{
 "cells": [
  {
   "cell_type": "code",
   "execution_count": 1,
   "id": "brazilian-motion",
   "metadata": {},
   "outputs": [],
   "source": [
    "import unicodedata"
   ]
  },
  {
   "cell_type": "code",
   "execution_count": 2,
   "id": "fluid-voice",
   "metadata": {},
   "outputs": [],
   "source": [
    "with open('./torisetsu/00.txt', mode='r', encoding='utf-8') as f:\n",
    "    text = f.read()"
   ]
  },
  {
   "cell_type": "code",
   "execution_count": 6,
   "id": "funny-pledge",
   "metadata": {},
   "outputs": [],
   "source": [
    "text = unicodedata.normalize(\"NFKC\",text)\n",
    "with open('./torisetsu/00.txt', mode='w', encoding='utf-8') as f:\n",
    "    f.write(text)"
   ]
  }
 ],
 "metadata": {
  "kernelspec": {
   "display_name": "Python 3",
   "language": "python",
   "name": "python3"
  },
  "language_info": {
   "codemirror_mode": {
    "name": "ipython",
    "version": 3
   },
   "file_extension": ".py",
   "mimetype": "text/x-python",
   "name": "python",
   "nbconvert_exporter": "python",
   "pygments_lexer": "ipython3",
   "version": "3.6.12"
  }
 },
 "nbformat": 4,
 "nbformat_minor": 5
}
