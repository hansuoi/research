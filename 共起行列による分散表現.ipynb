{
 "cells": [
  {
   "cell_type": "code",
   "execution_count": 86,
   "id": "republican-andrews",
   "metadata": {},
   "outputs": [],
   "source": [
    "with open('suihanki_wakati.txt', mode='r', encoding='utf-8') as f:\n",
    "    text = f.read()"
   ]
  },
  {
   "cell_type": "code",
   "execution_count": 89,
   "id": "sorted-spanish",
   "metadata": {},
   "outputs": [],
   "source": [
    "# 登場した単語のリスト\n",
    "words = list(set(text.split()))"
   ]
  },
  {
   "cell_type": "code",
   "execution_count": 87,
   "id": "collective-stability",
   "metadata": {},
   "outputs": [],
   "source": [
    "# w_size: ウィンドウ幅\n",
    "def cooccurrence(text, w_size=1):\n",
    "    import numpy as np\n",
    "\n",
    "    # i文目のj語目が格納された二次元配列sentence(i, j)\n",
    "    sentence = text.split('\\n')\n",
    "    for i in range(len(sentence)):\n",
    "        sentence[i] = sentence[i].split()\n",
    "\n",
    "    # 登場した単語のリスト\n",
    "    words = list(set(text.split()))\n",
    "\n",
    "    # words数サイズのゼロ行列を作る\n",
    "    matrix = np.zeros((len(words), len(words)))\n",
    "\n",
    "    # number番目の単語がw\n",
    "    for number, w in enumerate(words):\n",
    "        for i in range(len(sentence)):\n",
    "            for j in range(len(sentence[i])):\n",
    "                # wとi文目j単語目とが合致したら\n",
    "                if w == sentence[i][j]:\n",
    "                    # 行列の、窓幅分前の単語のところを+1する\n",
    "                    for d in range(1, w_size+1):\n",
    "                        if j-d >= 0:\n",
    "                            matrix[number][words.index(sentence[i][j-d])] += 1\n",
    "                    # 行列の、窓幅分後の単語のところを+1する\n",
    "                    for d in range(1, w_size+1):\n",
    "                        if j+d < len(sentence[i]):\n",
    "                            matrix[number][words.index(sentence[i][j+d])] += 1\n",
    "    return matrix"
   ]
  },
  {
   "cell_type": "code",
   "execution_count": 88,
   "id": "magnetic-offering",
   "metadata": {},
   "outputs": [],
   "source": [
    "matrix = cooccurrence(text, w_size=1)"
   ]
  },
  {
   "cell_type": "markdown",
   "id": "mexican-elizabeth",
   "metadata": {},
   "source": [
    "\n"
   ]
  },
  {
   "cell_type": "code",
   "execution_count": null,
   "id": "announced-outreach",
   "metadata": {},
   "outputs": [],
   "source": [
    "# ベクトルの0でない成分を返す\n",
    "# wは単語ベクトル\n",
    "def F(w):\n",
    "    "
   ]
  }
 ],
 "metadata": {
  "kernelspec": {
   "display_name": "Python 3",
   "language": "python",
   "name": "python3"
  },
  "language_info": {
   "codemirror_mode": {
    "name": "ipython",
    "version": 3
   },
   "file_extension": ".py",
   "mimetype": "text/x-python",
   "name": "python",
   "nbconvert_exporter": "python",
   "pygments_lexer": "ipython3",
   "version": "3.6.12"
  }
 },
 "nbformat": 4,
 "nbformat_minor": 5
}
