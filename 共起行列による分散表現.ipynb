{
 "cells": [
  {
   "cell_type": "code",
   "execution_count": 1,
   "id": "pending-poland",
   "metadata": {},
   "outputs": [],
   "source": [
    "with open('suihanki_wakati.txt', mode='r', encoding='utf-8') as f:\n",
    "    text = f.read()"
   ]
  },
  {
   "cell_type": "markdown",
   "id": "tropical-browser",
   "metadata": {},
   "source": [
    "\n"
   ]
  },
  {
   "cell_type": "code",
   "execution_count": 2,
   "id": "missing-target",
   "metadata": {},
   "outputs": [],
   "source": [
    "# 共起行列(と単語のリスト)を返す\n",
    "# w_size: ウィンドウ幅\n",
    "def cooccurrence(text, w_size):\n",
    "    import numpy as np\n",
    "\n",
    "    # i文目のj語目が格納された二次元配列sentence(i, j)\n",
    "    sentence = text.split('\\n')\n",
    "    for i in range(len(sentence)):\n",
    "        sentence[i] = sentence[i].split()\n",
    "\n",
    "    # 登場した単語のリスト\n",
    "    words = list(set(text.split()))\n",
    "\n",
    "    # words数サイズのゼロ行列を作る\n",
    "    matrix = np.zeros((len(words), len(words)))\n",
    "\n",
    "    # number番目の単語がw\n",
    "    for number, w in enumerate(words):\n",
    "        for i in range(len(sentence)):\n",
    "            for j in range(len(sentence[i])):\n",
    "                # wとi文目j単語目とが合致したら\n",
    "                if w == sentence[i][j]:\n",
    "                    # 行列の、窓幅分前の単語のところを+1する\n",
    "                    for d in range(1, w_size+1):\n",
    "                        if j-d >= 0:\n",
    "                            matrix[number][words.index(sentence[i][j-d])] += 1\n",
    "                    # 行列の、窓幅分後の単語のところを+1する\n",
    "                    for d in range(1, w_size+1):\n",
    "                        if j+d < len(sentence[i]):\n",
    "                            matrix[number][words.index(sentence[i][j+d])] += 1\n",
    "\n",
    "    return words, matrix"
   ]
  },
  {
   "cell_type": "markdown",
   "id": "analyzed-bobby",
   "metadata": {},
   "source": [
    "\n"
   ]
  },
  {
   "cell_type": "code",
   "execution_count": 3,
   "id": "stock-fireplace",
   "metadata": {},
   "outputs": [],
   "source": [
    "# ベクトルの0でない成分を返す\n",
    "# wは単語ベクトル\n",
    "def F(w):\n",
    "    a = []\n",
    "    for n, i in enumerate(w):\n",
    "        if i != 0:\n",
    "            a.append(n)\n",
    "    return set(a)"
   ]
  },
  {
   "cell_type": "code",
   "execution_count": 4,
   "id": "otherwise-emergency",
   "metadata": {},
   "outputs": [],
   "source": [
    "def WeedsP(w1, w2):\n",
    "    m = 0\n",
    "    for i in list(F(w1)):\n",
    "        m += w1[i]\n",
    "    \n",
    "    if m == 0:\n",
    "        return 0\n",
    "\n",
    "    c = 0\n",
    "    for i in list(F(w1)&F(w2)):\n",
    "        c += w1[i]\n",
    "    return c / m"
   ]
  },
  {
   "cell_type": "markdown",
   "id": "mathematical-cocktail",
   "metadata": {},
   "source": [
    "\n"
   ]
  },
  {
   "cell_type": "code",
   "execution_count": 5,
   "id": "latest-eleven",
   "metadata": {},
   "outputs": [],
   "source": [
    "def weeds_list(text, w_size=1):\n",
    "    # words: textに登場する単語のリスト\n",
    "    # matrix: 共起行列\n",
    "    words, matrix = cooccurrence(text, w_size=1)\n",
    "    \n",
    "    # 下位語候補, 上位語候補, weeds値\n",
    "    # を格納する配列を用意しておく\n",
    "    result = []\n",
    "    \n",
    "    for i in range(len(words)):\n",
    "        for j in range(len(words)):\n",
    "            if i == j:\n",
    "                continue\n",
    "            else:\n",
    "                result.append([words[i], words[j], WeedsP(matrix[i], matrix[j])])\n",
    "    \n",
    "    # weeds値が大きい順(上位・下位関係がはっきりしている順)に並べ替える\n",
    "    result = sorted(result, reverse=True, key=lambda x: x[2])\n",
    "    \n",
    "    return result"
   ]
  },
  {
   "cell_type": "markdown",
   "id": "seasonal-essex",
   "metadata": {},
   "source": [
    "\n"
   ]
  },
  {
   "cell_type": "code",
   "execution_count": null,
   "id": "through-scientist",
   "metadata": {},
   "outputs": [],
   "source": [
    "weeds = weeds_list(text, w_size=1)\n",
    "print(weeds[:10])"
   ]
  },
  {
   "cell_type": "code",
   "execution_count": null,
   "id": "linear-machine",
   "metadata": {},
   "outputs": [],
   "source": [
    "import numpy as np\n",
    "np.savetxt('weeds.txt', np.array(weeds))"
   ]
  }
 ],
 "metadata": {
  "kernelspec": {
   "display_name": "Python 3",
   "language": "python",
   "name": "python3"
  },
  "language_info": {
   "codemirror_mode": {
    "name": "ipython",
    "version": 3
   },
   "file_extension": ".py",
   "mimetype": "text/x-python",
   "name": "python",
   "nbconvert_exporter": "python",
   "pygments_lexer": "ipython3",
   "version": "3.6.12"
  }
 },
 "nbformat": 4,
 "nbformat_minor": 5
}
